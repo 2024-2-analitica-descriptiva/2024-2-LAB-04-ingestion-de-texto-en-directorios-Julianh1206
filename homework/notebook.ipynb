{
 "cells": [
  {
   "cell_type": "code",
   "execution_count": 24,
   "metadata": {},
   "outputs": [],
   "source": [
    "import os\n",
    "import zipfile\n",
    "import pandas as pd"
   ]
  },
  {
   "cell_type": "code",
   "execution_count": 25,
   "metadata": {},
   "outputs": [],
   "source": [
    "ruta = \"../files/input.zip\"\n",
    "with zipfile.ZipFile(ruta, 'r') as zip_ref:\n",
    "    zip_ref.extractall(\"input\")\n",
    "\n",
    "## Crear el output en files: \n",
    "output_dir = os.path.join(\"../files\",\"output\")\n",
    "if not os.path.exists(output_dir):\n",
    "    os.makedirs(output_dir)"
   ]
  },
  {
   "cell_type": "code",
   "execution_count": 26,
   "metadata": {},
   "outputs": [],
   "source": [
    "## crear listas con los sentimientos: \n",
    "phrases_test = []\n",
    "targets_test = []\n",
    "phrases_train = []\n",
    "targets_train = []"
   ]
  },
  {
   "cell_type": "code",
   "execution_count": 27,
   "metadata": {},
   "outputs": [],
   "source": [
    "test_dir = os.path.join(\"input\",\"input\",\"test\")\n",
    "train_dir = os.path.join(\"input\",\"input\",\"train\")\n",
    "\n",
    "sentimientos_nombres = [\"negative\",\"neutral\",\"positive\"]"
   ]
  },
  {
   "cell_type": "code",
   "execution_count": 28,
   "metadata": {},
   "outputs": [],
   "source": [
    "for sentimiento in sentimientos_nombres:\n",
    "    for file in os.listdir(os.path.join(test_dir,sentimiento)):\n",
    "        with open(os.path.join(test_dir,sentimiento,file), 'r') as f:\n",
    "            phrases_test.append(f.read())\n",
    "            targets_test.append(sentimiento)\n",
    "    for file in os.listdir(os.path.join(train_dir,sentimiento)):\n",
    "        with open(os.path.join(train_dir,sentimiento,file), 'r') as f:\n",
    "            phrases_train.append(f.read())\n",
    "            targets_train.append(sentimiento)"
   ]
  },
  {
   "cell_type": "code",
   "execution_count": 29,
   "metadata": {},
   "outputs": [],
   "source": [
    "test_data = pd.DataFrame({'phrase': phrases_test, 'target': targets_test})\n",
    "train_data = pd.DataFrame({'phrase': phrases_train, 'target': targets_train})"
   ]
  },
  {
   "cell_type": "code",
   "execution_count": 31,
   "metadata": {},
   "outputs": [],
   "source": [
    "test_data.to_csv(os.path.join(output_dir,\"test_dataset.csv\"), index=False)\n",
    "train_data.to_csv(os.path.join(output_dir,\"train_dataset.csv\"), index=False)"
   ]
  },
  {
   "cell_type": "code",
   "execution_count": null,
   "metadata": {},
   "outputs": [],
   "source": []
  },
  {
   "cell_type": "code",
   "execution_count": null,
   "metadata": {},
   "outputs": [],
   "source": []
  },
  {
   "cell_type": "code",
   "execution_count": null,
   "metadata": {},
   "outputs": [],
   "source": []
  },
  {
   "cell_type": "code",
   "execution_count": null,
   "metadata": {},
   "outputs": [],
   "source": []
  }
 ],
 "metadata": {
  "kernelspec": {
   "display_name": ".venv",
   "language": "python",
   "name": "python3"
  },
  "language_info": {
   "codemirror_mode": {
    "name": "ipython",
    "version": 3
   },
   "file_extension": ".py",
   "mimetype": "text/x-python",
   "name": "python",
   "nbconvert_exporter": "python",
   "pygments_lexer": "ipython3",
   "version": "3.10.5"
  }
 },
 "nbformat": 4,
 "nbformat_minor": 2
}
